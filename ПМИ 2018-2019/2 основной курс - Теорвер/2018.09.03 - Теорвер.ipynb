{
 "cells": [
  {
   "cell_type": "markdown",
   "metadata": {},
   "source": [
    "Косов Егор Дмитриевич\n",
    "\n",
    "ked_2006@mail.ru\n",
    "\n",
    "$О_{итог} = 0.7 \\cdot НО + 0.3 \\cdot ОЭ$\n",
    "\n",
    "$НО = \\frac{3}{14} (Кр_1 + Кр_2) + \\frac{3}{14} (Кл_1 + Кл_2) + \\frac{1}{7} Др$\n",
    "\n",
    "Шанс &mdash; частота наступления события &mdash; $V(A)$.\n",
    "\n",
    "$\\frac{V(A)}{n} \\rightarrow P$.\n",
    "\n",
    "$\\Omega = \\left\\{\\omega_1, \\ldots, \\omega_n\\right\\}$.\n",
    "\n",
    "$\\sum P_i = 1$.\n",
    "\n",
    "$A \\subset \\Omega$.\n",
    "\n",
    "$P(A) = \\sum_{\\omega_i \\in A} P$."
   ]
  },
  {
   "cell_type": "markdown",
   "metadata": {},
   "source": [
    "**Определение**. $P$ &mdash; вероятностная мера на $\\Omega$.\n",
    "\n",
    "1. $P \\ \\colon \\ 2^\\Omega \\rightarrow \\left[0, 1\\right]$.\n",
    "1. $P(\\Omega) = 1$.\n",
    "1. $P(A \\cup B) = P(A) + P(B)$."
   ]
  },
  {
   "cell_type": "markdown",
   "metadata": {},
   "source": [
    "**Пример**.\n",
    "\n",
    "Два игрока. 6 побед $\\rightarrow$ победитель.\n",
    "\n",
    "Счет: 5 3. Как распределить выигрыш досрочно?\n",
    "\n",
    "Осталось 8 вариантов. Значит делим как 7/8 и 1/8."
   ]
  },
  {
   "cell_type": "markdown",
   "metadata": {},
   "source": [
    "**Пример**.\n",
    "\n",
    "$N$ билетов, $n$ хороших.\n",
    "\n",
    "Как не встань, вероятность вытянуть хороший одинакова.\n",
    "\n",
    "$P(на\\ k-том\\ месте\\ хороший\\ билет) = \\frac{n \\cdot (N-1)!}{N!} = \\frac{n}{N}$."
   ]
  },
  {
   "cell_type": "markdown",
   "metadata": {},
   "source": [
    "**Пример**. Вероятностный алгоритм проверки числа на простоту. ???\n",
    "\n",
    "$N$ &mdash; простое.\n",
    "\n",
    "$b^{N-1} - 1 \\vdots N$.\n",
    "\n",
    "$b \\in \\{1, \\ldots, N - 1\\}$.\n",
    "\n",
    "$b \\in \\{2, \\ldots, N - 1\\}$.\n",
    "\n",
    "Проверим два условия:\n",
    "\n",
    "1. $НОД(b, N) = 1$? нет $\\Rightarrow$ не простое.\n",
    "2. $b^{N-1} - 1 \\vdots N$? нет $\\Rightarrow$ не простое (исключения: числа Кармайкла).\n",
    "\n",
    "Теперь вероятность того, что $N$ &mdash; простое $\\leqslant \\frac{1}{2}$. Перебрав несколько $b$, уменьшим вероятность еще сильнее."
   ]
  },
  {
   "cell_type": "markdown",
   "metadata": {},
   "source": [
    "**Утверждение**.\n",
    "\n",
    "$\\exists P$ на $\\mathbb{N}$ со своими 1), 2), 3)\n",
    "\n",
    "$P(A) = 0 #A < \\infty$.\n",
    "\n",
    "$P(\\mathbb{N}) = 1$.\n",
    "\n",
    "$\\sum P(n) = 0 \\neq 1 = P(\\mathbb{N})$.\n",
    "\n",
    "$\\{\\omega_1, \\ldots, \\omega_n, \\ldots\\}$\n",
    "\n",
    "$P_i \\geqslant 0 \\sum_{j=1}^\\infty P_j = 1$.\n",
    "\n",
    "1. $P \\ \\colon \\ 2^\\Omega \\rightarrow [0, 1]$.\n",
    "1. $P(\\Omega) = 1$.\n",
    "1. $A \\cap B = \\varnothing \\Rightarrow P(A \\cup B) = P(A) + P(B)$.\n",
    "1. $\\sigma$-адитивность (счетная аддитивность). $A_j \\cap A_i = \\varnothing \\Rightarrow P(\\bigcup_{k=1}^\\infty A_k) = \\sum_{k=1}^\\infty P(A_k)$."
   ]
  },
  {
   "cell_type": "markdown",
   "metadata": {},
   "source": [
    "$\\Omega = [0, 1]$.\n",
    "\n",
    "$P([a, b]) = b - a$.\n",
    "\n",
    "> Известный парадокс Банаха — Тарского\n",
    "\n",
    "$P(A \\cup B) = P(A) + P(B) - P(A \\cap B) = P(A \\\\ (A \\cap B)) + P(B \\\\ (A \\cap B)) + P(A \\cap B)$.\n",
    "\n",
    "$\\Rightarrow P(A \\cup B) \\leqslant P(A) + P(B) \\Rightarrow P(A_1 \\cup \\ldots \\cup A_n) \\leqslant P(A_1) + \\ldots + P(A_n)$."
   ]
  },
  {
   "cell_type": "markdown",
   "metadata": {},
   "source": [
    "**Утверждение**. Формула включений-исключений."
   ]
  }
 ],
 "metadata": {
  "kernelspec": {
   "display_name": "Python 3",
   "language": "python",
   "name": "python3"
  },
  "language_info": {
   "codemirror_mode": {
    "name": "ipython",
    "version": 3
   },
   "file_extension": ".py",
   "mimetype": "text/x-python",
   "name": "python",
   "nbconvert_exporter": "python",
   "pygments_lexer": "ipython3",
   "version": "3.6.5"
  }
 },
 "nbformat": 4,
 "nbformat_minor": 2
}
