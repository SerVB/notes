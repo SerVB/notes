{
 "cells": [
  {
   "cell_type": "markdown",
   "metadata": {},
   "source": [
    "2018.09.17"
   ]
  },
  {
   "cell_type": "markdown",
   "metadata": {},
   "source": [
    "В предыдущих сериях:\n",
    "\n",
    "1. Условная вероятность.\n",
    "1. Формулы полной вероятности, Байеса.\n",
    "1. Парадокс Байеса."
   ]
  },
  {
   "cell_type": "markdown",
   "metadata": {},
   "source": [
    "1. Парадокс Монти-Холла.\n",
    "1. Условная вероятность.\n",
    "1. Схема Бернулли.\n",
    "1. Распределение Бернулли.\n",
    "1. Локальная теорема Муавра–Лапласа."
   ]
  }
 ],
 "metadata": {
  "kernelspec": {
   "display_name": "Python 3",
   "language": "python",
   "name": "python3"
  },
  "language_info": {
   "codemirror_mode": {
    "name": "ipython",
    "version": 3
   },
   "file_extension": ".py",
   "mimetype": "text/x-python",
   "name": "python",
   "nbconvert_exporter": "python",
   "pygments_lexer": "ipython3",
   "version": "3.6.5"
  }
 },
 "nbformat": 4,
 "nbformat_minor": 2
}
