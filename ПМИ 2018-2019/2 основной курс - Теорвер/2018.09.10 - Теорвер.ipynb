{
 "cells": [
  {
   "cell_type": "markdown",
   "metadata": {},
   "source": [
    "2018.09.10"
   ]
  },
  {
   "cell_type": "markdown",
   "metadata": {},
   "source": [
    "В предыдущих сериях:\n",
    "\n",
    "1. Вероятностное пространство.\n",
    "1. Сумма вероятностей.\n",
    "1. Формула включений-исключений"
   ]
  },
  {
   "cell_type": "markdown",
   "metadata": {},
   "source": [
    "**Задача**.\n",
    "\n",
    "60 направлений, по каждому 7 специалистов (специалист может быть нескольких направлений).\n",
    "\n",
    "Каждый с вероятностью 0.5 летит либо в I либо в II.\n",
    "\n",
    "$A_j$ &mdash; по j-ой специальности есть специалист и там и там.\n",
    "\n",
    "$P(A_j) = 1 - P \\left(\\overline{A_j}\\right) = 1 - \\frac{2}{2^7} > 1 - \\frac{1}{60}$, т. е. существует расстановка специалистов, чтобы в каждом городе были все специальности."
   ]
  },
  {
   "cell_type": "markdown",
   "metadata": {},
   "source": [
    "**Задача**.\n",
    "\n",
    "3 монетки.\n",
    "\n",
    "$A$ &mdash; была ровно одна решка.\n",
    "\n",
    "$P(A) = \\frac{3}{8}$.\n",
    "\n",
    "$B$ &mdash; на втором месте орел.\n",
    "\n",
    "$P(A|B) = \\frac{2}{4} = \\frac{1}{2}$."
   ]
  },
  {
   "cell_type": "markdown",
   "metadata": {},
   "source": [
    "# Вероятность A при условии B\n",
    "\n",
    "$\\boxed{P(A|B) = \\frac{P(A \\cap B)}{P(B)}}$"
   ]
  },
  {
   "cell_type": "markdown",
   "metadata": {},
   "source": [
    "# Правило произведения (вероятность пересечения событий)\n",
    "\n",
    "$P(A \\cap B) = P(A|B) P(B)$."
   ]
  },
  {
   "cell_type": "markdown",
   "metadata": {},
   "source": [
    "# Формула полной вероятности\n",
    "\n",
    "$A_j \\cap A_i = \\varnothing$, $\\Omega = \\bigcup_{j=1}^n A_j$.\n",
    "\n",
    "$\\boxed{P(B) = \\sum_j P(B|A_j) P(A_j)}$"
   ]
  },
  {
   "cell_type": "markdown",
   "metadata": {},
   "source": [
    "**Задача**.\n",
    "\n",
    "В коробке белые (m) и черные (N-m) шарики. Щарики пронумерованные.\n",
    "\n",
    "Какова вероятность, что два вытянутых шарика белые?\n",
    "\n",
    "$\\frac{m(m-1)}{N(N-1)}$\n",
    "\n",
    "Другой способ:\n",
    "\n",
    "$A_1$ &mdash; первый белый, $A_2$ &mdash; первый черный.\n",
    "\n",
    "$P_1 = \\frac{m}{n}$, $P_2 = \\frac{N-m}{N}$.\n",
    "\n",
    "$P(2-ой \\ белый | A_1) = \\frac{m-1}{N-1}$, $P(2-ой \\ черный| A_1) = \\frac{N-m}{N-1}$.\n",
    "\n",
    "$P(бб) = P(бб|A_1) P(A_1) + \\underbrace{P(бб|A_2)}_{=0} P(A_2)$ &mdash; та же вероятность."
   ]
  },
  {
   "cell_type": "markdown",
   "metadata": {},
   "source": [
    "**Задача**. Столновение частиц.\n",
    "\n",
    "За минуту происходит j столкновений с вероятностью\n",
    "\n",
    "$P_j = \\frac{\\lambda^j e^{-\\lambda}}{j!}, \\lambda > 0$.\n",
    "\n",
    "$\\sum_{j=0}^\\infty P_j = 1$ (в силу разложения $e^x$).\n",
    "\n",
    "Пара частиц рождается с вероятностью \\frac{1}{2}.\n",
    "\n",
    "$j = $ количество пар родившихся частиц.\n",
    "\n",
    "$P(\\nu = k | j\\ столкновений) = \\begin{cases}\\frac{C_j^k}{2^j}, k \\leqslant j \\\\ 0, k > j\\end{cases}$.\n",
    "\n",
    "$P(\\nu = k) = \\sum_{j=0}^\\infty P(\\nu=k|j \\ столкновений) P(j\\ столкновений) = \\sum_{j=k}^\\infty \\frac{C_j^k}{2^j} \\cdot \\frac{\\lambda^j e^{-\\lambda}}{j!} = ...$ ФОТО"
   ]
  },
  {
   "cell_type": "markdown",
   "metadata": {},
   "source": [
    "**Задача**. Бешенная старушка.\n",
    "\n",
    "N человек, N мест. Первый садится на случайное. Если место следующих занято, то они садятся на случайное. Какова вероятность, что последний сядет на свое ($P_N$)?\n",
    "\n",
    "База: $P_2 = \\frac{1}{2}$.\n",
    "\n",
    "$P_{N+1} = \\sum \\underbrace{P(последний \\ на \\ своем|A_j)}_{j-ый - новая старушка} \\underbrace{P(A_j)}_{=\\frac{1}{N+1}} = \\frac{N-1}{2(N+1)} + \\frac{2}{2(N+1)} = \\frac{1}{2}$."
   ]
  },
  {
   "cell_type": "markdown",
   "metadata": {},
   "source": [
    "# Формула Байеса\n",
    "\n",
    "$P(A|B)P(B) = P(A \\cap B) = P(B|A)P(A)$.\n",
    "\n",
    "$\\boxed{P(A|B) = \\frac{P(B|A) P(A)}{P(B)}}$."
   ]
  },
  {
   "cell_type": "markdown",
   "metadata": {},
   "source": [
    "**Задача**.\n",
    "\n",
    "0.001 &mdash; шанс заболеть.\n",
    "\n",
    "Если болен, то с 99 % тест +.\n",
    "\n",
    "Если здоров, то с 1 % тест +.\n",
    "\n",
    "$P(тест+) = P(тест+|здоров) P(здоров) + P(тест+|болен) P(болен)$.\n",
    "\n",
    "$P(здоров|тест+)=\\frac{P(тест+|здоров)P(здоров)}{P(тест+)} = \\frac{0.01 \\cdot 0.999}{0.01 \\cdot 0.999 + 0.9 \\cdot 0.001} = 0.917$.\n",
    "\n",
    "Получается, что тест плохой."
   ]
  }
 ],
 "metadata": {
  "kernelspec": {
   "display_name": "Python 3",
   "language": "python",
   "name": "python3"
  },
  "language_info": {
   "codemirror_mode": {
    "name": "ipython",
    "version": 3
   },
   "file_extension": ".py",
   "mimetype": "text/x-python",
   "name": "python",
   "nbconvert_exporter": "python",
   "pygments_lexer": "ipython3",
   "version": "3.6.5"
  }
 },
 "nbformat": 4,
 "nbformat_minor": 2
}
