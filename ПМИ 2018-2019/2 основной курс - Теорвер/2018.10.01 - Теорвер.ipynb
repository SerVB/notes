{
 "cells": [
  {
   "cell_type": "markdown",
   "metadata": {},
   "source": [
    "2018.10.01"
   ]
  },
  {
   "cell_type": "markdown",
   "metadata": {},
   "source": [
    "Было:\n",
    "- Пуассоновский процесс.\n",
    "\n",
    "Новое:\n",
    "- Вероятностное пространство.\n",
    "- Алгебра, сигма-алгебра, борелевская сигма-алгебра.\n",
    "- Мера Дирака.\n",
    "- Теорема о продолжении вероятностной меры.\n",
    "- Мера Лебега (длина).\n",
    "- Бесконечное подбрасывание монеты."
   ]
  }
 ],
 "metadata": {
  "kernelspec": {
   "display_name": "Python 3",
   "language": "python",
   "name": "python3"
  },
  "language_info": {
   "codemirror_mode": {
    "name": "ipython",
    "version": 3
   },
   "file_extension": ".py",
   "mimetype": "text/x-python",
   "name": "python",
   "nbconvert_exporter": "python",
   "pygments_lexer": "ipython3",
   "version": "3.6.5"
  }
 },
 "nbformat": 4,
 "nbformat_minor": 2
}
