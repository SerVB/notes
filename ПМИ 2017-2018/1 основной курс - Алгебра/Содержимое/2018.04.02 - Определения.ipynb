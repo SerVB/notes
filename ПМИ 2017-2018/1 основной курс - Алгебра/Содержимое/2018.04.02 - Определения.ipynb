{
 "cells": [
  {
   "cell_type": "markdown",
   "metadata": {},
   "source": [
    "Пусть $M$ &mdash; множество."
   ]
  },
  {
   "cell_type": "markdown",
   "metadata": {},
   "source": [
    "---"
   ]
  },
  {
   "cell_type": "markdown",
   "metadata": {},
   "source": [
    "**Определение**. **Бинарная операция** $\\circ$ на $M$ &mdash; это отображение $M \\circ M \\rightarrow M$, $(a,b) \\mapsto a \\circ b$."
   ]
  },
  {
   "cell_type": "markdown",
   "metadata": {},
   "source": [
    "---"
   ]
  },
  {
   "cell_type": "markdown",
   "metadata": {},
   "source": [
    "**Определение**. Пара $(M, \\circ)$ называется **множеством с бинарной операцией**."
   ]
  },
  {
   "cell_type": "markdown",
   "metadata": {},
   "source": [
    "---"
   ]
  },
  {
   "cell_type": "markdown",
   "metadata": {},
   "source": [
    "**Определение**. Множество с бинарной операцией $(M, \\circ)$ называется **полугруппой**, если бинарная операция ассоциативна:\n",
    "\n",
    "$(a \\circ b) \\circ c = a \\circ (b \\circ c)\\ \\forall a,b,c \\in M$.\n",
    "\n",
    "**Примеры** неассоциативных бинарных операций:\n",
    "\n",
    "$a - b$, $a$ ^ $b$."
   ]
  },
  {
   "cell_type": "markdown",
   "metadata": {},
   "source": [
    "---"
   ]
  },
  {
   "cell_type": "markdown",
   "metadata": {},
   "source": [
    "**Определение**. Полугруппа $(M, \\circ)$ называется **моноидом**, если в $M$ есть **нейтральный элемент**, т.е. такой $e \\in M$, что $e \\circ a = a \\circ e = a\\ \\forall a \\in M$.\n",
    "\n",
    "**Примеры**:\n",
    "* $(\\mathbb{N}, +)$ &mdash; полугруппа, не моноид.\n",
    "* $(\\mathbb{N} \\cup \\{0\\}, +)$ &mdash; моноид, где $e = 0$.\n",
    "* $(\\mathbb{N}, \\times)$ &mdash; моноид, где $e = 1$.\n",
    "\n",
    "**Замечание**. Нейтральный элемент у моноида один."
   ]
  },
  {
   "cell_type": "markdown",
   "metadata": {},
   "source": [
    "---"
   ]
  },
  {
   "cell_type": "markdown",
   "metadata": {},
   "source": [
    "**Определение**. Моноид $(M, \\circ)$ называется **группой**, если $\\forall a \\in M$ есть **обратный элемент**, т.е. такой $b \\in M$, что $a \\circ b = b \\circ a = e$.\n",
    "\n",
    "**Замечание**. Обратный элемент к $\\forall a$ в группе единственнен.\n",
    "\n",
    "**Обозначение**: $a^{-1}$.\n",
    "\n",
    "**Упражнение**. $(a \\circ b)^{-1} = b^{-1} \\circ a^{-1}$.\n",
    "\n",
    "**Соглашение**. $(G, \\circ)$ &mdash; группа $\\Rightarrow$ пишем просто $G$, а вместо $a \\circ b$ пишем $ab$."
   ]
  },
  {
   "cell_type": "markdown",
   "metadata": {},
   "source": [
    "---"
   ]
  },
  {
   "cell_type": "markdown",
   "metadata": {},
   "source": [
    "**Определение**. Группа $G$ назывется **коммутативной** ($=$ **абелевой**), если $ab=ba\\ \\forall a,b\\in G$.\n",
    "\n",
    "**Замечание**. Мультипликативная запись: $\\circ$, $ab$, $e$, $a^{-1}$.  \n",
    "Аддитивная запись (для коммутативных групп): $+$, $a+b$, $0$, $-a$."
   ]
  },
  {
   "cell_type": "markdown",
   "metadata": {},
   "source": [
    "---"
   ]
  },
  {
   "cell_type": "markdown",
   "metadata": {},
   "source": [
    "**Определение**. **Порядок** группы $G$ &mdash; это число элементов в ней, т.е. $\\left|G\\right|$.\n",
    "\n",
    "$\\left|G\\right| < \\infty$ $\\Rightarrow$ $G$ называется **конечной**.  \n",
    "$\\left|G\\right| = \\infty$ $\\Rightarrow$ $G$ называется **бесконечной**."
   ]
  },
  {
   "cell_type": "markdown",
   "metadata": {},
   "source": [
    "---"
   ]
  },
  {
   "cell_type": "markdown",
   "metadata": {},
   "source": [
    "**Примеры** групп:\n",
    "1. Числовые аддитивные: $(\\mathbb{Z}, +)$; $(\\mathbb{Q}, +)$; $(\\mathbb{C}, +)$; вычеты по модулю $n$ &mdash; $(\\mathbb{Z}_n, +)$.\n",
    "1. Числовые мультипликативные: $(\\mathbb{Q} \\setminus \\{0\\}, \\times)$; $(\\mathbb{R} \\setminus \\{0\\}, \\times)$; $(\\mathbb{C} \\setminus \\{0\\}, \\times)$; $(\\mathbb{Z}_n \\setminus \\{0\\}, \\times)$, где $n$ &mdash; простое.\n",
    "1. Группы матриц: $GL_n(F) = \\{A \\in M_n(F)\\ |\\ det\\ A \\neq 0\\}$ &mdash; полная линейная группа; $SL_n(F) = \\{A \\in M_n(F)\\ |\\ det\\ A = 1\\}$ &mdash; специальная линейная группа.\n",
    "1. Группы подстановок: $S_n$ &mdash; симметричная группа; $A_n = \\{\\sigma \\in S_n\\ |\\ sgn\\ \\sigma = 1\\}$ &mdash; знакопеременная группа.\n",
    "1. Группы преобразований: движения в $\\mathbb{R}^2$, $\\mathbb{R}^3$; симметрии и т. п."
   ]
  },
  {
   "cell_type": "markdown",
   "metadata": {},
   "source": [
    "---"
   ]
  },
  {
   "cell_type": "markdown",
   "metadata": {},
   "source": [
    "**Определение**. Подмножество $H$ группы $G$ называется **подгруппой**, если выполняются условия:\n",
    "1. $e \\in H$.\n",
    "1. $a, b \\in H$ $\\Rightarrow$ $ab \\in H$.\n",
    "1. $a \\in H$ $\\Rightarrow$ $a^{-1} \\in H$.\n",
    "\n",
    "Сама $G$ и $\\{e\\}$ &mdash; всегда подгруппы $G$, называются **несобственными**. Остальные подгруппы $G$ называются **собственными**.\n",
    "\n",
    "**Пример**: $2\\mathbb{Z}$ &mdash; собственная подгруппа в $(\\mathbb{Z}, +)$.\n",
    "\n",
    "**Предложение**. Всякая подгруппа в $(\\mathbb{Z}, +)$ имеет вид $k\\mathbb{Z}$, где $k \\geqslant 0$."
   ]
  },
  {
   "cell_type": "markdown",
   "metadata": {},
   "source": [
    "---"
   ]
  },
  {
   "cell_type": "markdown",
   "metadata": {},
   "source": [
    "Пусть $G$ &mdash; группа, $g \\in G$, $n \\in \\mathbb{Z}$.\n",
    "\n",
    "**Положим** $g^n := \\begin{cases}\n",
    "\\underbrace{g \\cdot \\ldots \\cdot g}_n, & n > 0 \\\\\n",
    "e, & n = 0 \\\\\n",
    "\\underbrace{g^{-1} \\cdot \\ldots \\cdot g^{-1}}_n, & n < 0\n",
    "\\end{cases}$.\n",
    "\n",
    "**Упражнения**.\n",
    "1. $g^{n+m} = g^n \\cdot g^m \\ \\forall m, n \\in \\mathbb{Z}$.\n",
    "1. $(g^m)^{-1}=(g^{-1})^m \\ \\forall m \\in \\mathbb{Z}$.\n",
    "1. $(g^m)^n = g^{mn} \\ \\forall m,n \\in \\mathbb{Z}$."
   ]
  },
  {
   "cell_type": "markdown",
   "metadata": {},
   "source": [
    "---"
   ]
  },
  {
   "cell_type": "markdown",
   "metadata": {},
   "source": [
    "**Определение**. $\\{g^n\\ |\\ n \\in \\mathbb{Z}\\}$ называется **циклической подгруппой**, порождаемой элементом $g \\in G$.\n",
    "\n",
    "**Обозначение**. $\\left< g \\right>$.\n",
    "\n",
    "**Определение**. Элемент $g$ называется **образующим** ($=$ **порождающим**) элементом в $\\left< g \\right>$.\n",
    "\n",
    "**Пример**. $2\\mathbb{Z} = \\left< 2 \\right> = \\left< -2 \\right>$. Заметим, что $6 = 2$ ^ $3 = 2 + 2 + 2$."
   ]
  },
  {
   "cell_type": "markdown",
   "metadata": {},
   "source": [
    "---"
   ]
  },
  {
   "cell_type": "markdown",
   "metadata": {},
   "source": [
    "Пусть $G$ &mdash; группа, $g \\in G$.  \n",
    "$M(g) = \\{n \\in \\mathbb{N} \\ |\\ g^n = e\\}$.\n",
    "\n",
    "**Определение**. **Порядок элемента** $g \\in G$ &mdash; это $ord(g) = \\begin{cases}\n",
    "min\\ M(g), & M(g) \\neq \\varnothing \\\\\n",
    "\\infty, & M(g) = \\varnothing\n",
    "\\end{cases}$.\n",
    "\n",
    "**Предложение**. $ord(g) = \\left| \\left< g \\right> \\right|$."
   ]
  },
  {
   "cell_type": "markdown",
   "metadata": {},
   "source": [
    "---"
   ]
  },
  {
   "cell_type": "markdown",
   "metadata": {},
   "source": [
    "**Определение**. Группа $G$ называется **циклической**, если $G=\\left< g \\right>$ для некоторого $g \\in G$.\n",
    "\n",
    "**Примеры**: $(\\mathbb{Z}, +) = \\left< 1 \\right>$.  \n",
    "$(\\mathbb{Z}_n, +) = \\left< 1 \\right>, n \\geqslant 1.$\n",
    "\n",
    "**Замечание**: $G$ &mdash; циклическая группа $\\Rightarrow$ $G$ коммутативна и не более чем счетна."
   ]
  },
  {
   "cell_type": "markdown",
   "metadata": {},
   "source": [
    "---"
   ]
  },
  {
   "cell_type": "markdown",
   "metadata": {},
   "source": [
    "$G$ &mdash; группа, $H \\subseteq G$ &mdash; подгруппа. Рассмотрим на $G$ отношение $L_H$, заданное так: $(a,b) \\in L_H \\Leftrightarrow a^{-1}b \\in H$.\n",
    "\n",
    "**Предложение**. $L_H$ &mdash; отношение эквивалентности на $G$.\n",
    "\n",
    "$(a,b) \\in L_H \\Leftrightarrow a^{-1} b \\in H \\Leftrightarrow b\\in a H \\Rightarrow$ класс эквивалентности элемента $a$ &mdash; это множество $a H = \\{a h\\ |\\ h \\in H\\}$.\n",
    "\n",
    "**Определение**. $a H$ называется **левым смежным классом** элемента $a$ по подгруппе $H$.\n",
    "\n",
    "**Лемма**. $\\left| H \\right| < \\infty \\Rightarrow \\left| a H \\right|=\\left| H \\right| \\forall a\\in G$."
   ]
  }
 ],
 "metadata": {
  "kernelspec": {
   "display_name": "Python 3",
   "language": "python",
   "name": "python3"
  },
  "language_info": {
   "codemirror_mode": {
    "name": "ipython",
    "version": 3
   },
   "file_extension": ".py",
   "mimetype": "text/x-python",
   "name": "python",
   "nbconvert_exporter": "python",
   "pygments_lexer": "ipython3",
   "version": "3.6.3"
  }
 },
 "nbformat": 4,
 "nbformat_minor": 2
}
