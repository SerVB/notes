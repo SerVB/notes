{
 "cells": [
  {
   "cell_type": "markdown",
   "metadata": {},
   "source": [
    "**Теорема**. Для кода $C \\subseteq F^n$ следующие условия эквивалентны:\n",
    "1. $C$ исправляет $t$ ошибок.\n",
    "1. $\\forall x, y \\in C, x \\neq y, B_t(x) \\cap B_t(y) = \\varnothing$.\n",
    "1. $d_C \\geqslant 2 t + 1$.\n",
    "\n",
    "**Доказательство**. $(1) \\Leftrightarrow (2)$ $C$ исправляет $t$ ошибок $\\Leftrightarrow$ $\\forall x \\in F^n\\ \\exists$ не более одного $y \\in C \\colon x \\in B_t(y)$ $\\Leftrightarrow$ $B_t(x) \\cap B_t(y) = \\varnothing\\ \\forall x,y \\in C, x \\neq y$.\n",
    "\n",
    "$(2) \\Rightarrow (3)$ Докажем $\\overline{(3)} \\Rightarrow \\overline{(2)}$: Пусть $\\exists a, b \\in C, a \\neq b$, такие что $\\rho(a, b) \\leqslant 2 t$. Без ограничений общности можно считать $a_i = b_i$ при $i > 2 t$.  \n",
    "$x := (a_1, \\ldots, a_t, b_{t + 1}, \\ldots, b_n)$.  \n",
    "$\\begin{cases}\n",
    "\\rho(x, b) \\leqslant t \\\\\n",
    "\\rho(x, a) \\leqslant t\n",
    "\\end{cases} \\Rightarrow B_t(a) \\cap B_t(b) \\neq \\varnothing$.\n",
    "\n",
    "$(3) \\Rightarrow (2)$ Докажем $\\overline{(2)} \\Rightarrow \\overline{(3)}$: Пусть $a, b \\in C$ таковы, что $a \\neq b$ и $B_t(a) \\cap B_t(b) \\neq \\varnothing$.\n",
    "\n",
    "$x \\in B_t(a)$ $\\Rightarrow$ $\\rho(a, x) \\leqslant t$, $\\rho(b, x) \\leqslant t$ $\\Rightarrow$ $\\rho(a, b) \\leqslant 2t$ &mdash; противоречие."
   ]
  },
  {
   "cell_type": "markdown",
   "metadata": {},
   "source": [
    "---"
   ]
  },
  {
   "cell_type": "markdown",
   "metadata": {},
   "source": [
    "**Лемма**. $C \\subseteq (\\mathbb{F}_q)^n$ &mdash; линейный код $\\Rightarrow$ $d_C = min_{\\substack{x \\in C \\\\ x \\neq 0}} \\left|\\left| x \\right|\\right|$.\n",
    "\n",
    "**Доказательство**. $d_C = min_{\\substack{x, y \\in C \\\\ x \\neq y}} \\rho(x,y) = min_{\\substack{x, y \\in C \\\\ x \\neq y}} \\left|\\left| x-y \\right|\\right| = \\{x - y \\in C\\} = min_{\\substack{x \\in C \\\\ x \\neq 0}} \\left|\\left| x \\right|\\right|$."
   ]
  },
  {
   "cell_type": "markdown",
   "metadata": {},
   "source": [
    "---"
   ]
  },
  {
   "cell_type": "markdown",
   "metadata": {},
   "source": [
    "**Предложение**. $C$ &mdash; линейный код с проверочной матрицей $H$ $\\Rightarrow$ следующие условия эквивалентны:\n",
    "1. $d_C \\geqslant s + 1$.\n",
    "1. Любые $s$ столбцов матрицы $H$ линейно независимы.\n",
    "\n",
    "**Доказательство**. $\\overline{(1)} \\Leftrightarrow \\overline{(2)}$ $d_C \\leqslant s$ $\\Leftrightarrow$ $\\exists x \\in C$, $x \\neq 0$, $\\left|\\left|x\\right|\\right| \\leqslant s$ $\\Leftrightarrow$ в $H$ есть $s$ линейно независимых столбцов."
   ]
  },
  {
   "cell_type": "markdown",
   "metadata": {},
   "source": [
    "---"
   ]
  },
  {
   "cell_type": "markdown",
   "metadata": {},
   "source": [
    "**Теорема**. Код БХЧ исправляет $t$ ошибок.\n",
    "\n",
    "**Доказательство**. $f \\in C \\Leftrightarrow f\\ \\vdots\\ g \\Leftrightarrow f(\\alpha^i) = 0 \\ \\forall i = 1, \\ldots, 2 t$.\n",
    "\n",
    "$f = c_0 + c_1 x + \\ldots + c_{n - 1} x^{n - 1}$.\n",
    "\n",
    "$f \\in C \\Leftrightarrow H \\cdot \\begin{pmatrix} c_0 \\\\ c_1 \\\\ \\vdots\\ \\\\ c_{n-1}\\end{pmatrix} = 0$, где $H = \\begin{pmatrix}\n",
    "1 & \\alpha^1 & \\alpha^2 & \\cdots & \\alpha^{n - 1} \\\\\n",
    "1 & \\alpha^2 & \\alpha^4 & \\cdots & \\alpha^{2(n - 1)} \\\\\n",
    "\\vdots &&&& \\vdots \\\\\n",
    "1 & \\alpha^{2 t} & \\alpha^{4 t} & \\cdots & \\alpha^{2 t (n - 1)} \\\\\n",
    "\\end{pmatrix}$.\n",
    "\n",
    "Код исправляет $t$ ошибок $\\Leftarrow$ $d_C \\geqslant 2 t + 1$ $\\Rightarrow$ достаточно доказать, что любые $2 t$ столбцов в $H$ линейно независимы. Возьмем стобцы с номерами $i_1, i_2, \\ldots, i_{2 t}$ и покажем, что соответствующий минор $\\neq 0$.\n",
    "\n",
    "Имеем... [фото](https://photos.app.goo.gl/Lp26RvyUV9atrn7UA)."
   ]
  },
  {
   "cell_type": "markdown",
   "metadata": {},
   "source": [
    "---"
   ]
  },
  {
   "cell_type": "markdown",
   "metadata": {},
   "source": [
    "**Предложение**. $С$ &mdash; построенный выше код БЧХ $\\Rightarrow$ его размерность $\\geqslant n - 2 t m = n - 2 t log_q(n + 1)$.\n",
    "\n",
    "**Доказательство**. Размерность равна $n - deg\\ g$. Имеем $[\\mathbb{F}_{q^m} \\colon \\mathbb{F}_q] = m$ $\\Rightarrow$ $\\forall i = 1, \\ldots, 2 t \\ [\\mathbb{F}_q(\\alpha^i) \\colon \\mathbb{F}_q] \\leqslant m$ $\\Rightarrow$ $deg \\ h_i \\leqslant m$ $\\Rightarrow$ $deg\\ g \\leqslant 2 t m$."
   ]
  }
 ],
 "metadata": {
  "kernelspec": {
   "display_name": "Python 3",
   "language": "python",
   "name": "python3"
  },
  "language_info": {
   "codemirror_mode": {
    "name": "ipython",
    "version": 3
   },
   "file_extension": ".py",
   "mimetype": "text/x-python",
   "name": "python",
   "nbconvert_exporter": "python",
   "pygments_lexer": "ipython3",
   "version": "3.6.3"
  }
 },
 "nbformat": 4,
 "nbformat_minor": 2
}
