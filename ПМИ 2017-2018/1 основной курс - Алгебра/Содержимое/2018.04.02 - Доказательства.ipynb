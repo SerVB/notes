{
 "cells": [
  {
   "cell_type": "markdown",
   "metadata": {},
   "source": [
    "**Замечание**. Нейтральный элемент у моноида один.\n",
    "\n",
    "**Доказательство**. Пусть $e_1$, $e_2$ &mdash; два нейтральных элемента $\\Rightarrow$ $e_1 = e_1 \\circ e_2 = e_2$."
   ]
  },
  {
   "cell_type": "markdown",
   "metadata": {},
   "source": [
    "---"
   ]
  },
  {
   "cell_type": "markdown",
   "metadata": {},
   "source": [
    "**Замечание**. Обратный элемент к $\\forall a$ в группе единственнен.\n",
    "\n",
    "**Доказательство**. Пусть $b_1$, $b_2$ &mdash; два обратных элемента к $a$ $\\Rightarrow$ $b_1 = b_1 \\circ e = b_1 \\circ (a \\circ b_2) = (b_1 \\circ a) \\circ b_2 = e \\circ b_2 = b_2$."
   ]
  },
  {
   "cell_type": "markdown",
   "metadata": {},
   "source": [
    "---"
   ]
  },
  {
   "cell_type": "markdown",
   "metadata": {},
   "source": [
    "**Упражнение**. $(a \\circ b)^{-1} = b^{-1} \\circ a^{-1}$.\n",
    "\n",
    "**Доказательство**. В силу выполнения двух равенств $(a \\circ b) \\circ (b^{-1} \\circ a^{-1}) = a \\circ (b \\circ b^{-1}) \\circ a^{-1} = a \\circ e \\circ a^{-1} = e$ и $(b^{-1} \\circ a^{-1}) \\circ (a \\circ b) = e$ получается, что $(b^{-1} \\circ a^{-1})$ &mdash; это обратный элемент к $(a \\circ b)$."
   ]
  },
  {
   "cell_type": "markdown",
   "metadata": {},
   "source": [
    "---"
   ]
  },
  {
   "cell_type": "markdown",
   "metadata": {},
   "source": [
    "**Предложение**. Всякая подгруппа в $(\\mathbb{Z}, +)$ имеет вид $k\\mathbb{Z}$, где $k \\geqslant 0$.\n",
    "\n",
    "**Доказательство**. Пусть $H \\subseteq \\mathbb{Z}$ &mdash; подгруппа.\n",
    "* $H = \\{0\\}$ $\\Rightarrow$ $k = 0$.\n",
    "* $H \\neq \\{0\\}$. В силу $\\exists x \\in H$ $\\Leftrightarrow$ $\\exists (-x) \\in H$ $\\Rightarrow$ множество $H \\cap \\mathbb{N}$ непусто. Пусть $k = min(H \\cap \\mathbb{N})$. Тогда $k\\mathbb{Z} \\subseteq H$. Пусть $a \\in H$. Поделим $a$ на $k$ с остатком: $a=qk+r$, где $0 \\leqslant r < k$ $\\Rightarrow$ $r = a - qk \\in H$ $\\Rightarrow$ $r = 0$ и $a = qk \\in k\\mathbb{Z}$ $\\Rightarrow$ $H = k\\mathbb{Z}$."
   ]
  },
  {
   "cell_type": "markdown",
   "metadata": {},
   "source": [
    "---"
   ]
  },
  {
   "cell_type": "markdown",
   "metadata": {},
   "source": [
    "**Упражнения**.\n",
    "1. $g^{n+m} = g^n \\cdot g^m \\ \\forall m, n \\in \\mathbb{Z}$.\n",
    "1. $(g^m)^{-1}=(g^{-1})^m \\ \\forall m \\in \\mathbb{Z}$.\n",
    "1. $(g^m)^n = g^{mn} \\ \\forall m,n \\in \\mathbb{Z}$.\n",
    "\n",
    "**Доказательства.** `TODO: рассмотреть все случаи`."
   ]
  },
  {
   "cell_type": "markdown",
   "metadata": {},
   "source": [
    "---"
   ]
  },
  {
   "cell_type": "markdown",
   "metadata": {},
   "source": [
    "**Предложение**. $ord(g) = \\left| \\left< g \\right> \\right|$.\n",
    "\n",
    "**Доказательство**.\n",
    "1. $ord\\ g=\\infty \\Rightarrow g^k \\neq g^l$ при $k \\neq l \\Rightarrow \\left| \\left< g \\right> \\right| = \\infty$.\n",
    "1. $ord\\ g=m < \\infty \\Rightarrow$ элементы $g^0 = e, g^1 = g, \\ldots, g^{m - 1}$ попарно различны, т. е. $\\left| \\left< g \\right> \\right| \\geqslant m$. Для произвольного $n \\in \\mathbb{Z}$: $n=qm+r$, где $0 \\leqslant r < m$ $\\Rightarrow$ $g^n=g^{qm+r}=g^{qm}\\cdot g^r=(g^m)^q \\cdot g^r=g^r$, т. е. $\\left| \\left< g \\right> \\right| \\leqslant m$ $\\Rightarrow$ $\\left< g \\right>=\\{g^0, g^1, \\cdots, g^{m-1}\\}$."
   ]
  },
  {
   "cell_type": "markdown",
   "metadata": {},
   "source": [
    "---"
   ]
  },
  {
   "cell_type": "markdown",
   "metadata": {},
   "source": [
    "**Замечание**. $G$ &mdash; циклическая группа $\\Rightarrow$ $G$ коммутативна и не более чем счетна.\n",
    "\n",
    "**Доказательство**.\n",
    "* $G = \\left< g \\right>$ $\\Rightarrow$ $G$ коммутативна: пусть $a, b \\in G$, $a = g^k$, $b = g^l$. Знаем, что $g^x \\circ g^y = g^{x+y}$. Значит $a \\circ b = g^k \\circ g^l = g^{k+l} = g^{l+k} = g^l \\circ g^k = b \\circ a$.\n",
    "* $G = \\left< g \\right>$ $\\Rightarrow$ $G$ не более чем счетна: если $ord \\ G = \\infty$, то $G = \\{g^0, g^1, g^{-1}, g^{2}, g^{-2}, \\ldots\\} \\cong \\mathbb{Z}$, т. е. счетна. Иначе она конечна, т. е. менее чем счетна."
   ]
  },
  {
   "cell_type": "markdown",
   "metadata": {},
   "source": [
    "---"
   ]
  },
  {
   "cell_type": "markdown",
   "metadata": {},
   "source": [
    "**Предложение**. $L_H$ &mdash; отношение эквивалентности на $G$.\n",
    "\n",
    "**Доказательство**. Рефлексивность: $a^{-1} a = e \\in H$.  \n",
    "Симметричность: $a^{-1} b \\in H \\Rightarrow (b a^{-1})=(a^{-1} b)^{-1} \\in H$.  \n",
    "Транзитивность: $a^{-1} b \\in H, b^{-1} c \\in H \\Rightarrow a^{-1} c = (a^{-1} b)(b^{-1} c) \\in H$."
   ]
  },
  {
   "cell_type": "markdown",
   "metadata": {},
   "source": [
    "---"
   ]
  },
  {
   "cell_type": "markdown",
   "metadata": {},
   "source": [
    "**Лемма**. $\\left| H \\right| < \\infty \\Rightarrow \\left| a H \\right|=\\left| H \\right| \\forall a\\in G$.\n",
    "\n",
    "**Доказательство**. $a H = \\{a h\\ |\\ h \\in H\\} \\Rightarrow \\left| a H\\right| \\leqslant \\left| H\\right|$. $a h_1=a h_2 \\Rightarrow$ домножим на $a^{-1}$ слева, получаем $h_1 = h_2 \\Rightarrow \\left| a H\\right| = \\left| H\\right|$."
   ]
  }
 ],
 "metadata": {
  "kernelspec": {
   "display_name": "Python 3",
   "language": "python",
   "name": "python3"
  },
  "language_info": {
   "codemirror_mode": {
    "name": "ipython",
    "version": 3
   },
   "file_extension": ".py",
   "mimetype": "text/x-python",
   "name": "python",
   "nbconvert_exporter": "python",
   "pygments_lexer": "ipython3",
   "version": "3.6.3"
  }
 },
 "nbformat": 4,
 "nbformat_minor": 2
}
