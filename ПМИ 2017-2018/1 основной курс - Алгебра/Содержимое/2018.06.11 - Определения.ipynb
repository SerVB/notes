{
 "cells": [
  {
   "cell_type": "markdown",
   "metadata": {},
   "source": [
    "**Коды, исправляющие ошибки**\n",
    "\n",
    "$F$ &mdash; конечный алфавит, $\\left| F \\right| = q$.\n",
    "\n",
    "(Важнейший случай: $F = \\{0, 1\\}$)\n",
    "\n",
    "Информация разбита на блоки длины $k$. Хотим ее передавать по каналу связи с \"шумом\".\n",
    "\n",
    "Идея: передавать информацию с избыточностью.\n",
    "\n",
    "Исходное сообщение $a \\in F^k$  \n",
    "$\\downarrow f \\colon F^k \\rightarrow F^n, a \\mapsto c$  \n",
    "Закодированное сообщение $c$  \n",
    "$\\downarrow$  \n",
    "Канал связи $\\leftleftarrows$ *шум*  \n",
    "$\\downarrow$  \n",
    "Полученное сообщение $\\widetilde{c} \\in F^n$  \n",
    "$\\downarrow g$  \n",
    "Декодированное сообщение $\\widetilde{a}$\n",
    "\n",
    "Ошибки: искажение символа ($=$ замена другим).\n",
    "\n",
    "**Пример**. Пусть известно, что в канале связи может быть не более одной ошибки. Тогда будем использовать преобразование $w \\mapsto w w w$, $w \\in F^k$, $w w w \\in F^{3k}$."
   ]
  },
  {
   "cell_type": "markdown",
   "metadata": {},
   "source": [
    "---"
   ]
  },
  {
   "cell_type": "markdown",
   "metadata": {},
   "source": [
    "Пусть $a, b \\in F^n$, $a=(a_1, a_2, \\ldots, a_n)$, $b=(b_1, b_2, \\ldots, b_n)$.\n",
    "\n",
    "**Определение**. **Расстояние Хэмминга** между $a$ и $b$ &mdash; это $\\rho(a, b) := \\left| \\{i\\ |\\ a_i \\neq b_i\\} \\right| =$ *число отличающихся координат в $a$ и $b$*.\n",
    "\n",
    "**Пример**. $a$ &mdash; исходное сообщение, $b$ &mdash; полученное сообщение. $\\Rightarrow$ $\\rho(a, b)=$ *количество ошибок при передаче*.\n",
    "\n",
    "**Замечание**. $\\rho$ является метрикой в $F^n$."
   ]
  },
  {
   "cell_type": "markdown",
   "metadata": {},
   "source": [
    "---"
   ]
  },
  {
   "cell_type": "markdown",
   "metadata": {},
   "source": [
    "**Определение**. **Кодом** длины $n$ (над $F$) называется всякое подмножество $C \\subseteq F^n$ (элементы $C$ называются **кодовыми словами**)."
   ]
  },
  {
   "cell_type": "markdown",
   "metadata": {},
   "source": [
    "---"
   ]
  },
  {
   "cell_type": "markdown",
   "metadata": {},
   "source": [
    "**Определение**. Говорят, что код $C \\subseteq F^n$ **исправляет t ошибок**, если $\\forall x \\in F^n \\ \\exists$ не более одного $c \\in C$, таких что $\\rho(x, c) \\leqslant t$."
   ]
  },
  {
   "cell_type": "markdown",
   "metadata": {},
   "source": [
    "---"
   ]
  },
  {
   "cell_type": "markdown",
   "metadata": {},
   "source": [
    "Задача: строить такие коды, у которых слова находились бы на \"большом\" расстоянии друг от друга.\n",
    "\n",
    "**Определение**. Число $d_C := min_{\\substack{x, y \\in C \\\\ x \\neq y}} \\ \\rho(x, y)$ называется **минимальным расстоянием** кода $C$."
   ]
  },
  {
   "cell_type": "markdown",
   "metadata": {},
   "source": [
    "---"
   ]
  },
  {
   "cell_type": "markdown",
   "metadata": {},
   "source": [
    "**Определение**. $x \\in F^n$ $\\Rightarrow$ **шаром** радиуса $t$ с центром в $x$ называется множество $B_t(x) = \\{y \\in F^n \\ | \\ \\rho(x,y) \\leqslant t\\}$.\n",
    "\n",
    "**Теорема**. Для кода $C \\subseteq F^n$ следующие условия эквивалентны:\n",
    "1. $C$ исправляет $t$ ошибок.\n",
    "1. $\\forall x, y \\in C, x \\neq y, B_t(x) \\cap B_t(y) = \\varnothing$.\n",
    "1. $d_C \\geqslant 2 t + 1$.\n",
    "\n",
    "**Пример** (код с повторением).\n",
    "\n",
    "$C \\in \\{(a, \\ldots, a) \\ | \\ a \\in F\\} \\subseteq F^n$ $\\Rightarrow$ $d_C = n$ $\\Rightarrow$ $C$ исправляет $\\left[ \\frac{n-1}{2}\\right]$ ошибок."
   ]
  },
  {
   "cell_type": "markdown",
   "metadata": {},
   "source": [
    "---"
   ]
  },
  {
   "cell_type": "markdown",
   "metadata": {},
   "source": [
    "Далее считаем, что $F$ &mdash; конечное поле $\\mathbb{F}_q$ ($\\Rightarrow$ $F^n$ &mdash; векторное пространство над $\\mathbb{F}_q$).\n",
    "\n",
    "Идея: строить коды, являющиеся подпространствами в $(\\mathbb{F}_q)^n$.\n",
    "\n",
    "**Определение**. **Вес** (**норма**) вектора $x = (x_1, \\ldots, x_n) \\in (\\mathbb{F}_q)^n$ &mdash; это $\\left|\\left| x \\right|\\right| := \\left|\\{i \\ | \\ x_i \\neq 0\\}\\right| =$ *число ненулевых координат*."
   ]
  },
  {
   "cell_type": "markdown",
   "metadata": {},
   "source": [
    "---"
   ]
  },
  {
   "cell_type": "markdown",
   "metadata": {},
   "source": [
    "**Определение**. Код $C \\subseteq (\\mathbb{F}_q)^n$ называется **линейным** ($=$ **групповым**), если $C$ является подпространством в $(\\mathbb{F}_q)^n$.\n",
    "\n",
    "$dim\\ C$ называется **размерностью** линейного кода $C$.\n",
    "\n",
    "**Обозначение**. $C \\subseteq (\\mathbb{F}_q)^n$ &mdash; линейный код, $dim\\ C = k$ $\\Rightarrow$ $C$ &mdash; линейный $(n, k)$-код над $(\\mathbb{F}_q)^n$.\n",
    "\n",
    "**Лемма**. $C \\subseteq (\\mathbb{F}_q)^n$ &mdash; линейный код $\\Rightarrow$ $d_C = min_{\\substack{x \\in C \\\\ x \\neq 0}} \\left|\\left| x \\right|\\right|$."
   ]
  },
  {
   "cell_type": "markdown",
   "metadata": {},
   "source": [
    "---"
   ]
  },
  {
   "cell_type": "markdown",
   "metadata": {},
   "source": [
    "$C \\subseteq (\\mathbb{F}_q)^n$ &mdash; линейный $(n, k)$-код.\n",
    "\n",
    "**Определение**. Матрица $H \\in Mat_{(n-k) \\times n} (\\mathbb{F}_q)$ называется **проверочной матрицей** кода $C$, если $rk\\ H = n - k$ и $\\forall x = (x_1, x_2, \\ldots, x_n) \\in (\\mathbb{F}_q)^n$ $x \\in C \\Leftrightarrow H \\cdot x^T = 0$.\n",
    "\n",
    "**Пример**. $C = \\{(a, \\ldots, a) \\ | \\ a \\in \\mathbb{F}_q\\}$ $\\Rightarrow$  \n",
    "$H = \\begin{pmatrix}\n",
    "-1 & 1 \\\\\n",
    "-1 && 1 &&& 0 \\\\\n",
    "-1 &&& 1 \\\\\n",
    "\\vdots & 0 &&& \\ddots \\\\\n",
    "-1 &&&&&1\n",
    "\\end{pmatrix}$ &mdash; это линейный $(n, 1)$-код.\n",
    "\n",
    "**Предложение**. $C$ &mdash; линейный код с проверочной матрицей $H$ $\\Rightarrow$ следующие условия эквивалентны:\n",
    "1. $d_C \\geqslant s + 1$.\n",
    "1. Любые $s$ столбцов матрицы $H$ линейно независимы.\n",
    "\n",
    "**Пример** (бинарный код Хэмминга).\n",
    "\n",
    "$q =2$, фиксируем $k \\in \\mathbb{N}$.\n",
    "\n",
    "$H_k \\in Mat_{k \\times (2^k - 1)} (\\mathbb{F}_2)$.\n",
    "\n",
    "Столбцы $H_k$ &mdash; это двоичная запись всех чисел от $1$ до $2^k - 1$.\n",
    "\n",
    "$k = 3$ $\\Rightarrow$ $H_k = \\begin{pmatrix}\n",
    "0 & 0 & 0 & 1 & 1 & 1 & 1 \\\\\n",
    "0 & 1 & 1 & 0 & 0 & 1 & 1 \\\\\n",
    "1 & 0 & 1 & 0 & 1 & 0 & 1\n",
    "\\end{pmatrix}$.\n",
    "\n",
    "Любые два столбца различаются $\\Rightarrow$ линейно независимы $\\Rightarrow$ $d_{C_k} \\geqslant 3$.\n",
    "\n",
    "Первые $3$ столбца линейно зависимы $\\Rightarrow$ $d_{C_k} = 3$ $\\Rightarrow$ $C_k$ исправляет одну ошибку."
   ]
  },
  {
   "cell_type": "markdown",
   "metadata": {},
   "source": [
    "---"
   ]
  },
  {
   "cell_type": "markdown",
   "metadata": {},
   "source": [
    "**Коды Боуза-Чоудхури-Хоквингельма** (БУХ)\n",
    "\n",
    "Отождествим $(\\mathbb{F}_q)^n$ c кольцом $\\mathbb{F}_q[x] / (x^n - 1)$.\n",
    "\n",
    "$(c_0, c_1, \\ldots, c_{n - 1}) \\leftrightarrow c_0 + c_1 x + \\ldots + c_{n - 1} x^{n - 1}$.\n",
    "\n",
    "Фиксируем параметры $n$, $q$, $m$, так что $n = s^m - 1$.\n",
    "\n",
    "Группа $(\\mathbb{F}_{q^m})^x$ является циклической, пусть $\\alpha$ &mdash; ее порожд. элемент.\n",
    "\n",
    "Фиксируем $t$ &mdash; число ошибок, которые хотим исправлять.\n",
    "\n",
    "$\\forall i = 1, \\ldots, 2 t$ положим $h_i(x) \\in \\mathbb{F}_q[x]$ &mdash; минимальный многочлен элемента $\\alpha^i$ над $\\mathbb{F}_q$.\n",
    "\n",
    "Важно: $x^n - 1\\ \\vdots\\ h_i(x)$.\n",
    "\n",
    "Положим $g_(x) := НОК(h_1(x), h_2(x), \\ldots, h_{2 t}(x))$.\n",
    "\n",
    "$x^n - 1\\ \\vdots\\ g(x)$\n",
    "\n",
    "По определению, код БЧХ &mdash; это $C = \\{f \\in \\mathbb{F}_q[x] / (x^n - 1)\\ | \\ f\\ \\vdots\\ g\\}$.\n",
    "\n",
    "**Теорема**. Построенный выше код $C$ исправляет $t$ ошибок.\n",
    "\n",
    "**Предложение**. $С$ &mdash; построенный выше код БЧХ $\\Rightarrow$ его размерность $\\geqslant n - 2 t m = n - 2 t log_q(n + 1)$."
   ]
  }
 ],
 "metadata": {
  "kernelspec": {
   "display_name": "Python 3",
   "language": "python",
   "name": "python3"
  },
  "language_info": {
   "codemirror_mode": {
    "name": "ipython",
    "version": 3
   },
   "file_extension": ".py",
   "mimetype": "text/x-python",
   "name": "python",
   "nbconvert_exporter": "python",
   "pygments_lexer": "ipython3",
   "version": "3.6.3"
  }
 },
 "nbformat": 4,
 "nbformat_minor": 2
}
