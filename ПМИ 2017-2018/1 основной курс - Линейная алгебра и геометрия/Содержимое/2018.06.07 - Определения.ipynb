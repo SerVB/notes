{
 "cells": [
  {
   "cell_type": "markdown",
   "metadata": {},
   "source": [
    "**Эллипс**  \n",
    "Задается уравнением $\\frac{x^2}{a^2} + \\frac{y^2}{b^2}=1$, где $a \\geqslant b > 0$.\n",
    "\n",
    "`TODO: Место для подробного рисунка (показать d_i, F_i) из видео.`\n",
    "\n",
    "$a$ &mdash; **большая полуось** эллипса, $b$ &mdash; **малая полуось** эллипса.\n",
    "\n",
    "Пусть $c = \\sqrt{a^2 - b^2}$, тогда $0 \\leqslant c < a$.  \n",
    "Точки $F_1(c, 0)$ и $F_2(-c, 0)$ называются **фокусами** эллипса.\n",
    "\n",
    "**Теорема**. Точка $P$ лежит на эллипсе $\\Leftrightarrow$ $\\rho(P, F_1)+\\rho(P, F_2)= 2a$.\n",
    "\n",
    "**Эксцентриситет** эллипса &mdash; это число $\\varepsilon=\\frac{c}{a}$, тогда $0 \\leqslant \\varepsilon < 1$.\n",
    "\n",
    "Прямые $d_1 : x = \\frac{a}{\\varepsilon}$, $d_2 : x = -\\frac{a}{\\varepsilon}$ называются **директрисами** эллипса.\n",
    "\n",
    "**Теорема**. Точка $P$ лежит на эллипсе $\\Leftrightarrow$ $\\frac{\\rho(P, F_i)}{\\rho(P, d_i)} = \\varepsilon$.\n",
    "\n",
    "**Оптическое свойство эллипса**: Лучи света, выпущенные из одного фокуса, после отражени от стенок собираются в другом фокусе."
   ]
  },
  {
   "cell_type": "markdown",
   "metadata": {},
   "source": [
    "---"
   ]
  },
  {
   "cell_type": "markdown",
   "metadata": {},
   "source": [
    "**Гипербола**  \n",
    "Задается уравнением $\\frac{x^2}{a^2} - \\frac{y^2}{b^2} = 1$.\n",
    "\n",
    "`TODO: Место для подробного рисунка из видео.`\n",
    "\n",
    "$a$ &mdash; **действительная полуось** гиперболы, $b$ &mdash; **мнимая полуось** гиперболы.\n",
    "\n",
    "$y=\\frac{b}{a}x$, $y=-\\frac{b}{a}x$ &mdash; **асимптоты** гиперболы.\n",
    "\n",
    "Пусть $c=\\sqrt{a^2 + b^2}$, тогда $c > a$.  \n",
    "Точки $F_1(c,0)$ и $F_2(-c,0)$ называются **фокусами** гиперболы.\n",
    "\n",
    "**Теорема**. $P$ лежит на гиперболе $\\Leftrightarrow$ $\\left|\\rho(P, F_1) - \\rho(P, F_2)\\right| = 2a$.\n",
    "\n",
    "**Эксцентриситет** гиперболы &mdash; это число $\\varepsilon=\\frac{c}{a}$, тогда $\\varepsilon > 1$.\n",
    "\n",
    "**Директрисы** эллипса: $d_1 : x=\\frac{a}{\\varepsilon}$, $d_2 : x=-\\frac{a}{\\varepsilon}$.\n",
    "\n",
    "**Теорема**. $P$ лежит на гиперболе $\\Leftrightarrow$ $\\frac{\\rho(P, F_i)}{\\rho(P, d_i)} = \\varepsilon$.\n",
    "\n",
    "**Оптическое свойство гиперболы**: Лучи света, выпущенные из фокуса, после отражения от стенок идут так, как будто они были выпущены из другого фокуса."
   ]
  },
  {
   "cell_type": "markdown",
   "metadata": {},
   "source": [
    "---"
   ]
  },
  {
   "cell_type": "markdown",
   "metadata": {},
   "source": [
    "**Парабола**\n",
    "\n",
    "Задается уравнением $y^2=2 p x$, где $p > 0$.\n",
    "\n",
    "`TODO: Место для подробного рисунка из видео.`\n",
    "\n",
    "**Фокус** параболы &mdash; это точка $F(\\frac{p}{2},0)$.\n",
    "\n",
    "**Директриса** параболы: $d : x=-\\frac{p}{2}$.\n",
    "\n",
    "**Эксцентриситет** параболы &mdash; это число $\\varepsilon=1$.\n",
    "\n",
    "**Теорема**. $P$ лежит на параболе $\\Leftrightarrow$ $\\rho(P,F) = \\rho(P,F)$.\n",
    "\n",
    "**Оптическое свойство параболы**: лучи света, выпущенные из фокуса, после отражения от стенок идут паралельно оси $Ox$."
   ]
  },
  {
   "cell_type": "markdown",
   "metadata": {},
   "source": [
    "---"
   ]
  },
  {
   "cell_type": "markdown",
   "metadata": {},
   "source": [
    "Эллипс, гипербола и парабола называются **кониками** ($=$ **коническими сечениями**).\n",
    "\n",
    "`TODO: Место для красивых картинок сечений из видео.`"
   ]
  },
  {
   "cell_type": "markdown",
   "metadata": {},
   "source": [
    "---"
   ]
  },
  {
   "cell_type": "markdown",
   "metadata": {},
   "source": [
    "**Жорданова нормальная форма**\n",
    "\n",
    "$V$ &mdash; векторное пространство над полем $F$.\n",
    "\n",
    "$\\varphi: V \\rightarrow V$ &mdash; линейный оператор.\n",
    "\n",
    "Помним критерий диагонализуемости: $\\varphi$ диагонализуем $\\Leftrightarrow$\n",
    "1. $\\chi_\\varphi(t)=(t-\\lambda_1)^{k_1} \\cdot \\dots \\cdot (t-\\lambda_s)^{k_s}$\n",
    "1. $\\forall i\\ k_i=dim\\ V_{\\lambda_i}(\\varphi)$\n",
    "\n",
    "**Теорема** (о жордановой нормальной форме). Пусть выполнено условие 1), т.е. $\\chi_\\varphi(t)=(t-\\lambda_1)^{k_1} \\cdot \\dots \\cdot (t-\\lambda_s)^{k_s}$. Тогда $\\exists$ базис $\\mathbb{e}$ в $V$, такой что\n",
    "$A(\\varphi, \\mathbb{e}) = \n",
    "\\begin{pmatrix}\n",
    "\\boxed{J^{m_1}_{\\mu_1}} &&& \\\\\n",
    "& \\boxed{J^{m_2}_{\\mu_2}} && 0 \\\\\n",
    "0 && \\ddots & \\\\\n",
    "&&& \\boxed{J^{m_p}_{\\mu_p}}\n",
    "\\end{pmatrix}$, где\n",
    "$J_\\mu^m = \n",
    "\\begin{pmatrix}\n",
    "\\mu & 1 &&&& \\\\\n",
    "& \\mu & 1 &&& 0 \\\\\n",
    "&& \\mu & 1 && \\\\\n",
    "&&& \\ddots & \\ddots & \\\\\n",
    "0 &&&& \\ddots & 1 \\\\\n",
    "&&&&& \\mu\n",
    "\\end{pmatrix}$ &mdash; матрица $m \\times m$ &mdash; жорданова клетка размера $m$ с собственным значением $\\mu$.\n",
    "\n",
    "$\\{\\mu_1, \\dots, \\mu_p\\}=Spec\\ \\varphi=\\{\\lambda_1,\\dots,\\lambda_s\\}$\n",
    "\n",
    "Более того, вид $A(\\varphi, \\mathbb{e})$ определен однозначно с точностью до перестановки клеток."
   ]
  },
  {
   "cell_type": "markdown",
   "metadata": {},
   "source": [
    "---"
   ]
  },
  {
   "cell_type": "markdown",
   "metadata": {},
   "source": [
    "$\\varphi \\in L(V)$, $\\chi_\\varphi(t)=(t-\\lambda_1)^{k_1} \\cdot \\dots \\cdot (t-\\lambda_s)^{k_s}$, $\\lambda \\in Spec\\ \\varphi$.\n",
    "\n",
    "**Определение**. Вектор $v \\in V$ называется **корневым вектором** линейного отображения $\\varphi$, отвечающим собственному значению $\\lambda$, если $\\exists m \\geqslant0$, такое что $(\\varphi - \\lambda\\cdot Id)^m v=0$.\n",
    "\n",
    "При этом наименьшее такое $m$ называется **высотой** корневого вектора $V$, обозначение: $ht(v)$.\n",
    "\n",
    "**Замечания**.\n",
    "\n",
    "$ht(v) = 0 \\Leftrightarrow v=0$\n",
    "\n",
    "$ht(v) = 1 \\Leftrightarrow (\\varphi - \\lambda \\cdot Id) = 0 \\Leftrightarrow \\varphi(v)=\\lambda v \\Leftrightarrow v$ &mdash; собственный вектор с собственным значением $\\lambda$.\n",
    "\n",
    "$V^\\lambda(\\varphi)$ &mdash; множество всех корневых векторов, отвечающих собственному значению $\\lambda$.\n",
    "\n",
    "**Упражнение**. $V^\\lambda(\\varphi)$ &mdash; подпространство в $V$. `TODO: `."
   ]
  },
  {
   "cell_type": "markdown",
   "metadata": {},
   "source": [
    "---"
   ]
  },
  {
   "cell_type": "markdown",
   "metadata": {},
   "source": [
    "**Определение**. $V^\\lambda(\\varphi)$ называется **корневым подпространством**, отвечающим собственному значению $\\lambda$.\n",
    "\n",
    "**Замечание**. $V_\\lambda(\\varphi) \\subseteq V^\\lambda(\\varphi)$.\n",
    "\n",
    "**Пример**. $V=F[x]_{\\leqslant n}, char\\ F=0$\n",
    "\n",
    "$\\varphi: f \\mapsto f'$\n",
    "\n",
    "$\\xi_\\varphi(t)=t^{n+1}$, $Spec\\ \\varphi=\\{0\\}$.\n",
    "\n",
    "$V^0(\\varphi)=V$\n",
    "\n",
    "$f \\in V \\Rightarrow deg\\ f = k \\Leftrightarrow ht\\ f = k + 1$\n",
    "\n",
    "**Факты**:\n",
    "1. $V^\\lambda(\\varphi)$ $\\varphi$ &mdash; инвариантное.\n",
    "1. $dim\\ V^\\lambda(\\varphi) = $ алгебраическая кратность собственного значения $\\lambda$.\n",
    "1. Если $\\lambda_1, \\dots, \\lambda_k \\in Spec\\ \\varphi$, $\\lambda_i \\neq \\lambda_j$ при $i \\neq j$, то $V^{\\lambda_1}(\\varphi), \\dots, V^{\\lambda_k}(\\varphi)$ линейно независимы.\n",
    "\n",
    "**Следствие**. Если $\\chi_\\varphi(t)=(t-\\lambda_1)^{k_1} \\cdot \\dots \\cdot (t-\\lambda_s)^{k_s}$, то $V=V^{\\lambda_1}(\\varphi) \\oplus \\dots \\oplus V^{\\lambda_s}(\\varphi)$.\n",
    "\n",
    "Если $\\mathbb{e}_i$ &mdash; базис в $V^{\\lambda_i}(\\varphi)$ и $\\mathbb{e} = \\mathbb{e}_1 \\sqcup \\mathbb{e}_2 \\sqcup \\dots \\sqcup \\mathbb{e}_s$, то $A(\\varphi,\\mathbb{e}) = \n",
    "\\begin{pmatrix}\n",
    "\\boxed{A_1} &&& \\\\\n",
    "& \\boxed{A_2} && 0 \\\\\n",
    "0 && \\ddots & \\\\\n",
    "&&& \\boxed{A_s}\n",
    "\\end{pmatrix}$, где $A_i = A(\\varphi|_{V^{\\lambda_i}(\\varphi)},\\mathbb{e}_i)$."
   ]
  },
  {
   "cell_type": "markdown",
   "metadata": {},
   "source": [
    "---"
   ]
  },
  {
   "cell_type": "markdown",
   "metadata": {},
   "source": [
    "**Определение**. Линейное отображение $\\varphi$ называется **нильпотентным**, если $\\exists m \\in \\mathbb{N}$, такое что $\\varphi^m=0$. Имеем $0 = ker\\ \\varphi^0 \\subseteq ker\\ \\varphi^1 \\subseteq ker\\ \\varphi^2 \\subseteq \\dots \\subseteq ker\\ \\varphi^m = V$, где $ker\\ \\varphi^1$ &mdash; собственное подпространство."
   ]
  }
 ],
 "metadata": {
  "kernelspec": {
   "display_name": "Python 3",
   "language": "python",
   "name": "python3"
  },
  "language_info": {
   "codemirror_mode": {
    "name": "ipython",
    "version": 3
   },
   "file_extension": ".py",
   "mimetype": "text/x-python",
   "name": "python",
   "nbconvert_exporter": "python",
   "pygments_lexer": "ipython3",
   "version": "3.6.3"
  }
 },
 "nbformat": 4,
 "nbformat_minor": 2
}
