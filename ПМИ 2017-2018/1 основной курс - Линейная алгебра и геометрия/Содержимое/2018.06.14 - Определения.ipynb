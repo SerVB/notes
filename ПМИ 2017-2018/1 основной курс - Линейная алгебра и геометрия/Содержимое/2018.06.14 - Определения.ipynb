{
 "cells": [
  {
   "cell_type": "markdown",
   "metadata": {},
   "source": [
    "$V$ &mdash; векторное пространство над $F$.\n",
    "\n",
    "$\\varphi \\colon V \\rightarrow V$ &mdash; линейный оператор.\n",
    "\n",
    "$\\chi_\\varphi(t) = (t-\\lambda_1)^{k_1}\\cdot \\ldots \\cdot (t - \\lambda_s)^{k_s}$.\n",
    "\n",
    "$i \\in \\{1, \\ldots, s\\} \\Rightarrow V^{\\lambda_i}(\\varphi)$ &mdash; корневое подпространство.\n",
    "\n",
    "$dim \\ V^{\\lambda_i}(\\varphi) = k_i$.\n",
    "\n",
    "$V = V^{\\lambda_1}(\\varphi) \\oplus \\ldots \\oplus V^{\\lambda_s}(\\varphi)$.\n",
    "\n",
    "$\\varphi_i = (\\varphi - \\lambda_i \\cdot Id) \\big|_{V^{\\lambda_i}(\\varphi)}$.\n",
    "\n",
    "$Spec \\ \\varphi_i = \\{0\\}$.\n",
    "\n",
    "$\\varphi_i^{k_i} = 0$.\n",
    "\n",
    "**Определение**. Линейный оператор $\\varphi$ называется **нильпотентным**, если $\\exists m \\in \\mathbb{N}$, такой что $\\varphi^m = 0$.\n",
    "\n",
    "Пусть $m \\in \\mathbb{N}$ наименьшее с этим свойством.\n",
    "\n",
    "$\\{0\\} = ker\\ \\varphi^0 \\subsetneqq ker\\ \\varphi^1 \\subsetneqq ker\\ \\varphi^2 \\subsetneqq \\ldots \\subsetneqq ker\\ \\varphi^m = V$.\n",
    "\n",
    "$d_i = dim \\ ker \\ \\varphi^i$.\n",
    "\n",
    "$0 = d_0 < d_1 < d_2 < \\ldots < d_m = n = dim \\ V$.\n",
    "\n",
    "$v \\in V, ht \\ v = k$.\n",
    "\n",
    "**Лемма**. Векторы $v$, $\\varphi(v)$, $\\ldots$, $\\varphi^{k-1}(v)$ линейно независимы.\n",
    "\n",
    "$C(v) = \\left<v, \\varphi(v), \\ldots, \\varphi^{k-1}(v)\\right>$.\n",
    "\n",
    "**Определение**. $C(v)$ называется **циклическим подпространством**, порожденным вектором $v$.\n",
    "\n",
    "$C(v)$ $\\varphi$-инвариантно.\n",
    "\n",
    "$B(v) = (\\varphi^{k-1}(v), \\ldots, \\varphi(v), v)$ &mdash; базис в $C(v)$.\n",
    "\n",
    "Матрица линейного оператора $\\varphi \\big|_{C(v)}$ в базисе $B(v)$ равна \n",
    "$\n",
    "\\begin{pmatrix}\n",
    "0 & 1 & 0 & 0 &   & 0 \\\\\n",
    "0 & 0 & 1 & 0 &   & 0 \\\\\n",
    "0 & 0 & 0 & 1 &   & 0 \\\\\n",
    "0 & 0 & 0 & 0 & \\ddots & \\\\\n",
    "\\vdots & \\vdots &&& \\ddots & 1 \\\\\n",
    "0 & 0 & 0 & 0 &   & 0\n",
    "\\end{pmatrix}\n",
    "$.\n",
    "\n",
    "Вывод: достаточно разложить $V$ в прямую сумму циклических подпространств."
   ]
  },
  {
   "cell_type": "markdown",
   "metadata": {},
   "source": [
    "---"
   ]
  },
  {
   "cell_type": "markdown",
   "metadata": {},
   "source": [
    "### Метод построения жорданова базиса\n",
    "\n",
    "[Схема с фото](https://photos.app.goo.gl/Xkrn4HZ28CcETnu36).\n",
    "\n",
    "**Шаг 1**. Выберем линейно независимый набор $\\mathbb{e}_m$, такой что $ker \\ \\varphi^m = \\left< \\mathbb{e}_m \\right> \\oplus ker \\ \\varphi^{m-1}$.\n",
    "\n",
    "Положим $\\mathbb{f}_m = \\mathbb{e}_m$.\n",
    "\n",
    "**Шаг 2**. Выберем линейно независимый набор $\\mathbb{e}_{m-1} \\subseteq ker \\ \\varphi^{m-1}$, такой что $ker \\ \\varphi^{m-1} = \\left< \\varphi(\\mathbb{f}_m) \\right> \\oplus \\left< \\mathbb{e}_{m-1} \\right> \\oplus ker \\ \\varphi^{m-2}$.\n",
    "\n",
    "Положим $\\mathbb{f}_{m-1} = \\varphi(\\mathbb{f}_m) \\cup \\mathbb{e}_{m-1}$.\n",
    "\n",
    "$\\ldots$ (и так далее) $\\ldots$\n",
    "\n",
    "**Шаг m**. Выбираем линейно независимый набор $\\mathbb{e}_1 \\subseteq ker \\ \\varphi$, такой что $ker \\ \\varphi = \\left< \\varphi(\\mathbb{f}_2)\\right> \\oplus \\left< \\mathbb{e}_1\\right>$.\n",
    "\n",
    "На выходе получаем наборы $\\mathbb{e}_m$, $\\mathbb{e}_{m-1}$, $\\ldots$, $\\mathbb{e}_1$.\n",
    "\n",
    "Положим $\\mathbb{e} = \\mathbb{e}_m \\cup \\mathbb{e}_{m-1} \\cup \\ldots \\cup \\mathbb{e}_1$.\n",
    "\n",
    "**Теорема**.\n",
    "1. $V = \\bigoplus_{e \\in \\mathbb{e}} C(e)$.\n",
    "2. $\\bigcup_{e \\in \\mathbb{e}} B(e)$ &mdash; жорданов базис для $\\varphi$.\n",
    "\n",
    "Пусть $C_k$ &mdash; число жордановых клеток размера $k$.\n",
    "\n",
    "$C_k = \\left| \\mathbb{e}_k \\right|$.\n",
    "\n",
    "$ker \\ \\varphi^k = \\left< \\varphi(\\mathbb{f}_{k+1}) \\right> \\oplus \\left< \\mathbb{e}_k \\right> \\oplus ker \\ \\varphi^{k-1}$.\n",
    "\n",
    "$d_k = \\left| \\varphi(\\mathbb{f}_{k+1})\\right| + C_k + d_{k-1}$, $\\left| \\varphi(\\mathbb{f}_{k+1})\\right| = d_{k+1} - d_k$.\n",
    "\n",
    "$d_k = d_{k+1} - d_k + C_k + d_{k-1}$.\n",
    "\n",
    "$C_k = 2 d_k - d_{k-1} - d_{k+1}$."
   ]
  },
  {
   "cell_type": "markdown",
   "metadata": {},
   "source": [
    "---"
   ]
  },
  {
   "cell_type": "markdown",
   "metadata": {},
   "source": [
    "### На чем базируется теория евклидовых пространств?\n",
    "1. Билинейные формы.\n",
    "1. Симметричные билинейные формы.\n",
    "1. Квадратичные формы.\n",
    "1. Положительно определенные квадратичные формы. $\\leftarrow$ *над* $\\mathbb{R}$\n",
    "1. Евклидовы пространства. $\\leftarrow$ *над* $\\mathbb{R}$"
   ]
  },
  {
   "cell_type": "markdown",
   "metadata": {},
   "source": [
    "---"
   ]
  },
  {
   "cell_type": "markdown",
   "metadata": {},
   "source": [
    "**Определение**. **Полуторалинейная форма** ($=$ **1,5-линейная форма**) на векторном пространстве $V$ над $\\mathbb{C}$ &mdash; это отображение $\\beta \\colon V \\times V \\rightarrow \\mathbb{C}$, такое что:\n",
    "1. Полулинейность по первому аргументу: $\\beta(\\alpha_1 x_1 + \\alpha_2 x_2, y) = \\overline{\\alpha_1} \\beta(x_1, y) + \\overline{\\alpha_2} \\beta(x_2, y)$.\n",
    "1. Линейность по второму аргументу.\n",
    "\n",
    "В координатах: $x = \\begin{pmatrix} x_1 \\\\ \\vdots \\\\ x_n \\end{pmatrix}$, $y = \\begin{pmatrix} y_1 \\\\ \\vdots \\\\ y_n \\end{pmatrix}$.\n",
    "\n",
    "$\\beta(x, y) = \\begin{pmatrix} \\overline{x_1} & \\cdots & \\overline{x_n} \\end{pmatrix} B \\begin{pmatrix} y_1 \\\\ \\vdots \\\\ y_n \\end{pmatrix}$.\n",
    "\n",
    "Формула изменения матрицы 1,5-линейной формы: $B' = C^* B C$.\n",
    "\n",
    "$C^* = \\overline{C}^T = \\begin{pmatrix}\\overline{c_{ji}}\\end{pmatrix}$."
   ]
  },
  {
   "cell_type": "markdown",
   "metadata": {},
   "source": [
    "---"
   ]
  },
  {
   "cell_type": "markdown",
   "metadata": {},
   "source": [
    "**Определение**. 1,5-линейная форма $\\beta$ называется **эрмитовой**, если $\\beta(x,y) = \\overline{\\beta(x,y)}$.\n",
    "\n",
    "$\\beta(x,x) = \\overline{\\beta(x,x)} \\Rightarrow \\beta(x,x) \\in \\mathbb{R}$.\n",
    "\n",
    "$Q(x) = \\beta(x,x)$ &mdash; эрмитова квадратичная форма.\n",
    "\n",
    "$Q \\colon V \\rightarrow \\mathbb{R}$."
   ]
  },
  {
   "cell_type": "markdown",
   "metadata": {},
   "source": [
    "---"
   ]
  },
  {
   "cell_type": "markdown",
   "metadata": {},
   "source": [
    "### Понятие положительной определенности эрмитовой квадратичной формы\n",
    "**Теорема** о нормальном виде.\n",
    "\n",
    "$Q$ &mdash; эрмитова квадратичная форма $\\Rightarrow$ $\\exists$ базис, такой что $Q(x) = \\left| x_1 \\right|^2 + \\ldots + \\left| x_k \\right|^2 - \\left| x_{k+1} \\right|^2 - \\ldots - \\left| x_{k+s} \\right|^2$."
   ]
  },
  {
   "cell_type": "markdown",
   "metadata": {},
   "source": [
    "---"
   ]
  },
  {
   "cell_type": "markdown",
   "metadata": {},
   "source": [
    "**Определение**. **Эрмитово пространство** &mdash; это векторное пространство над $\\mathbb{C}$, на котором задано скалярное произведение, т.е. положительно определенная эрмитова 1,5-линейная форма."
   ]
  },
  {
   "cell_type": "markdown",
   "metadata": {},
   "source": [
    "---"
   ]
  },
  {
   "cell_type": "markdown",
   "metadata": {},
   "source": [
    "### На чем базируется теория эрмитовых пространств?\n",
    "1. 1,5-линейные формы.\n",
    "1. Эрмитовы формы.\n",
    "1. Эрмитовы квадратичные формы.\n",
    "1. Положительно определенные эрмитовы квадратичные формы. $\\leftarrow$ *над* $\\mathbb{C}$\n",
    "1. Эмитовы пространства. $\\leftarrow$ *над* $\\mathbb{C}$"
   ]
  },
  {
   "cell_type": "markdown",
   "metadata": {},
   "source": [
    "---"
   ]
  },
  {
   "cell_type": "markdown",
   "metadata": {},
   "source": [
    "* Длина: $\\left| x \\right| = \\sqrt{(x,x)}$.\n",
    "* Неравенство Коши-Буняковского.\n",
    "* Неравенство треугольника.\n",
    "* Ортогональность, ортогональное дополнение.\n",
    "* $U$ &mdash; подпространство в $V$ $\\Rightarrow$ $V = U \\oplus U^\\perp$.\n",
    "* Ортонормированный базис."
   ]
  },
  {
   "cell_type": "markdown",
   "metadata": {},
   "source": [
    "---"
   ]
  },
  {
   "cell_type": "markdown",
   "metadata": {},
   "source": [
    "$\\mathbb{e}, \\mathbb{e}'$ &mdash; два ортонормированных базиса, $\\mathbb{e}' = \\mathbb{e} \\cdot C$.\n",
    "\n",
    "$C$ &mdash; **унитарная** матрица.\n",
    "\n",
    "$C^{-1} = C^*$."
   ]
  },
  {
   "cell_type": "markdown",
   "metadata": {},
   "source": [
    "---"
   ]
  },
  {
   "cell_type": "markdown",
   "metadata": {},
   "source": [
    "Линейные операторы в эрмитовых пространствах.\n",
    "1. Самосопряженные &mdash; $(\\varphi(x), y)=(x, \\varphi(y))$.\n",
    "1. Унитарные &mdash; $(\\varphi(x), \\varphi(y)) = (x,y)$."
   ]
  },
  {
   "cell_type": "markdown",
   "metadata": {},
   "source": [
    "---"
   ]
  },
  {
   "cell_type": "markdown",
   "metadata": {},
   "source": [
    "**Теорема**.\n",
    "1. $\\varphi$ самосопряжен $\\Rightarrow$ $\\exists$ ортонормированный базис из собственных векторов; $Spec \\ \\varphi \\subseteq \\mathbb{R}$.\n",
    "1. $\\varphi$ &mdash; унитарный оператор $\\Rightarrow$ $\\exists$ ортонормированный базис из с.в.: $\\lambda \\in Spec \\ \\varphi \\Rightarrow \\left| \\lambda \\right| = 1$."
   ]
  },
  {
   "cell_type": "markdown",
   "metadata": {},
   "source": [
    "---"
   ]
  },
  {
   "cell_type": "markdown",
   "metadata": {},
   "source": [
    "### Аналог сингулярного разложения\n",
    "\n",
    "$A \\in Mat_{m \\times n}(\\mathbb{C})$ $\\Rightarrow$ $\\exists$ унитарная матрица $U \\in M_m(\\mathbb{C})$, $V \\in M_n(\\mathbb{C})$, такой что $A = U \\Sigma V^*$,\n",
    "\n",
    "$\\Sigma = \\begin{pmatrix}\n",
    "\\boxed{\\begin{matrix}\\sigma_1 & & 0 \\\\ & \\ddots & \\\\ 0 & & \\sigma_r\\end{matrix}}\n",
    "& 0 \\\\ 0 & 0\n",
    "\\end{pmatrix}$, $\\sigma_i \\in \\mathbb{R}$, $\\sigma_1 \\geqslant \\ldots \\geqslant \\sigma_r > 0$, $\\sigma_i$ определены однозначно."
   ]
  }
 ],
 "metadata": {
  "kernelspec": {
   "display_name": "Python 3",
   "language": "python",
   "name": "python3"
  },
  "language_info": {
   "codemirror_mode": {
    "name": "ipython",
    "version": 3
   },
   "file_extension": ".py",
   "mimetype": "text/x-python",
   "name": "python",
   "nbconvert_exporter": "python",
   "pygments_lexer": "ipython3",
   "version": "3.6.3"
  }
 },
 "nbformat": 4,
 "nbformat_minor": 2
}
