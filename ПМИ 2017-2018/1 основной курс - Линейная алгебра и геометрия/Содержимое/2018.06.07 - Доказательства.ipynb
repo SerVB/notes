{
 "cells": [
  {
   "cell_type": "markdown",
   "metadata": {},
   "source": [
    "**Жорданова нормальная форма**\n",
    "\n",
    "$V$ &mdash; векторное пространство над полем $F$.\n",
    "\n",
    "$\\varphi: V \\rightarrow V$ &mdash; линейный оператор.\n",
    "\n",
    "Помним критерий диагонализуемости: $\\varphi$ диагонализуем $\\Leftrightarrow$\n",
    "1. $\\chi_\\varphi(t)=(t-\\lambda_1)^{k_1} \\cdot \\dots \\cdot (t-\\lambda_s)^{k_s}$\n",
    "1. $\\forall i\\ k_i=dim\\ V_{\\lambda_i}(\\varphi)$\n",
    "\n",
    "**Теорема** (о жордановой нормальной форме). Пусть выполнено условие 1), т.е. $\\chi_\\varphi(t)=(t-\\lambda_1)^{k_1} \\cdot \\dots \\cdot (t-\\lambda_s)^{k_s}$. Тогда $\\exists$ базис $\\mathbb{e}$ в $V$, такой что\n",
    "$A(\\varphi, \\mathbb{e}) = \n",
    "\\begin{pmatrix}\n",
    "\\boxed{J^{m_1}_{\\mu_1}} &&& \\\\\n",
    "& \\boxed{J^{m_2}_{\\mu_2}} && 0 \\\\\n",
    "0 && \\ddots & \\\\\n",
    "&&& \\boxed{J^{m_p}_{\\mu_p}}\n",
    "\\end{pmatrix}$, где\n",
    "$J_\\mu^m = \n",
    "\\begin{pmatrix}\n",
    "\\mu & 1 &&&& \\\\\n",
    "& \\mu & 1 &&& 0 \\\\\n",
    "&& \\mu & 1 && \\\\\n",
    "&&& \\ddots & \\ddots & \\\\\n",
    "0 &&&& \\ddots & 1 \\\\\n",
    "&&&&& \\mu\n",
    "\\end{pmatrix}$ &mdash; матрица $m \\times m$ &mdash; жорданова клетка размера $m$ с собственным значением $\\mu$.\n",
    "\n",
    "$\\{\\mu_1, \\dots, \\mu_p\\}=Spec\\ \\varphi=\\{\\lambda_1,\\dots,\\lambda_s\\}$\n",
    "\n",
    "Более того, вид $A(\\varphi, \\mathbb{e})$ определен однозначно с точностью до перестановки клеток."
   ]
  },
  {
   "cell_type": "markdown",
   "metadata": {},
   "source": [
    "**Доказательство**.\n",
    "\n",
    "Сводится к случаю $V=V^{\\lambda_i}(\\varphi)$. Далее считаем $Spec\\ \\varphi=\\{\\lambda\\}$, $\\chi_\\varphi(t)=(t-\\lambda)^n$, $n=dim\\ V$.\n",
    "\n",
    "$V=V^\\lambda(\\varphi)$.\n",
    "\n",
    "Полагая $\\psi=\\varphi-\\lambda\\cdot Id$, получаем $\\chi_\\psi(t)=t^n$, $Spec\\ \\psi=\\{0\\}$, $V=V^0(\\psi)$.\n",
    "\n",
    "Далее считаем $Spec\\ \\varphi=\\{0\\}$."
   ]
  }
 ],
 "metadata": {
  "kernelspec": {
   "display_name": "Python 3",
   "language": "python",
   "name": "python3"
  },
  "language_info": {
   "codemirror_mode": {
    "name": "ipython",
    "version": 3
   },
   "file_extension": ".py",
   "mimetype": "text/x-python",
   "name": "python",
   "nbconvert_exporter": "python",
   "pygments_lexer": "ipython3",
   "version": "3.6.3"
  }
 },
 "nbformat": 4,
 "nbformat_minor": 2
}
