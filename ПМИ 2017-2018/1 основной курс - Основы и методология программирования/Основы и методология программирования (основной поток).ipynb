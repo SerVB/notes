{
 "cells": [
  {
   "cell_type": "markdown",
   "metadata": {},
   "source": [
    "# Основы и методология программирования на ПМИ 2017/2018 (основной поток)\n",
    "\n",
    "## Первый модуль\n",
    "[Страница на вики][Ссылка на вики 1].  \n",
    "Лектор &mdash; Густокашин Михаил Сергеевич.  \n",
    "[Мини-конспект-шпаргалка](https://github.com/SerVB/ami-prog-python).  \n",
    "[Ссылка на вики 1]: http://wiki.cs.hse.ru/Основы_и_методология_программирования_на_ПМИ_2017/2018_(основной_поток,_1_модуль)\n",
    "\n",
    "## Второй модуль и начало третьего модуля\n",
    "[Страница на вики][Ссылка на вики 2].  \n",
    "Лектор &mdash; Зобнин Алексей Игоревич.  \n",
    "[Мини-конспект-шпаргалка](https://github.com/SerVB/ami-prog-cpp).  \n",
    "[Видео лекции 1](https://youtu.be/vP-Z33_wceM).  \n",
    "[Видео лекции 2](https://youtu.be/WOeRYIFqfwI).  \n",
    "[Видео лекции 3](https://youtu.be/x27K2JrR7tQ).  \n",
    "[Видео лекции 4](https://youtu.be/DiNeJ_w5svk).  \n",
    "[Ссылка на вики 2]: http://wiki.cs.hse.ru/Основы_и_методология_программирования_на_ПМИ_2017/2018_(основной_поток,_2_модуль)"
   ]
  }
 ],
 "metadata": {
  "kernelspec": {
   "display_name": "Python 3",
   "language": "python",
   "name": "python3"
  },
  "language_info": {
   "codemirror_mode": {
    "name": "ipython",
    "version": 3
   },
   "file_extension": ".py",
   "mimetype": "text/x-python",
   "name": "python",
   "nbconvert_exporter": "python",
   "pygments_lexer": "ipython3",
   "version": "3.6.3"
  }
 },
 "nbformat": 4,
 "nbformat_minor": 2
}
